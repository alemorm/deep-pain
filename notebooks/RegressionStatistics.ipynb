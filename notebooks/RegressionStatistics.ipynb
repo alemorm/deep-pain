{
 "metadata": {
  "language_info": {
   "codemirror_mode": {
    "name": "ipython",
    "version": 3
   },
   "file_extension": ".py",
   "mimetype": "text/x-python",
   "name": "python",
   "nbconvert_exporter": "python",
   "pygments_lexer": "ipython3",
   "version": "3.8.3"
  },
  "orig_nbformat": 2,
  "kernelspec": {
   "name": "python383jvsc74a57bd036397c004174d0f14d2557e3b781d8a78e3572d0b3fc50f8c35e92671bf927b2",
   "display_name": "Python 3.8.3 64-bit ('datasci': conda)"
  }
 },
 "nbformat": 4,
 "nbformat_minor": 2,
 "cells": [
  {
   "source": [
    "## Import the relevant modules"
   ],
   "cell_type": "markdown",
   "metadata": {}
  },
  {
   "cell_type": "code",
   "execution_count": 1,
   "metadata": {},
   "outputs": [],
   "source": [
    "import pandas as pd\n",
    "import statsmodels.api as sm\n",
    "import scipy.stats"
   ]
  },
  {
   "source": [
    "## Load and visualize the data"
   ],
   "cell_type": "markdown",
   "metadata": {}
  },
  {
   "cell_type": "code",
   "execution_count": 2,
   "metadata": {},
   "outputs": [],
   "source": [
    "bones = ['femur', 'tibia', 'patella']\n",
    "variabledict = {bone:{} for bone in bones}\n",
    "for bone in bones:\n",
    "    variabledict[bone] = pd.read_csv(f'../data/stats/{bone}logisticvariables.csv')"
   ]
  },
  {
   "source": [
    "## Show process for Femur"
   ],
   "cell_type": "markdown",
   "metadata": {}
  },
  {
   "cell_type": "code",
   "execution_count": 3,
   "metadata": {},
   "outputs": [
    {
     "output_type": "execute_result",
     "data": {
      "text/plain": [
       "Index(['Age', 'BMI', 'Sex', 'MF', 'LF', 'DLROI', 'Outcome'], dtype='object')"
      ]
     },
     "metadata": {},
     "execution_count": 3
    }
   ],
   "source": [
    "bone = 'femur'\n",
    "variabledict[bone].columns"
   ]
  },
  {
   "source": [
    "## Fit Logistic Regression Models"
   ],
   "cell_type": "markdown",
   "metadata": {}
  },
  {
   "cell_type": "code",
   "execution_count": 4,
   "metadata": {},
   "outputs": [
    {
     "output_type": "stream",
     "name": "stdout",
     "text": [
      "Optimization terminated successfully.\n         Current function value: 0.609721\n         Iterations 5\nOptimization terminated successfully.\n         Current function value: 0.576531\n         Iterations 5\n"
     ]
    }
   ],
   "source": [
    "classicalX = variabledict[bone].iloc[:,:-2]\n",
    "dlguidedX = variabledict[bone].iloc[:,:-1]\n",
    "outcome = variabledict[bone].Outcome\n",
    "\n",
    "smclassicalX = sm.add_constant(classicalX)\n",
    "smdlguidedX = sm.add_constant(dlguidedX)\n",
    "\n",
    "smLRclassical = sm.Logit(outcome, smclassicalX)\n",
    "smLRdlguided = sm.Logit(outcome, smdlguidedX)\n",
    "\n",
    "smLRclassicalfit = smLRclassical.fit()\n",
    "smLRdlguidedfit = smLRdlguided.fit()\n"
   ]
  },
  {
   "source": [
    "##  Show model statistics"
   ],
   "cell_type": "markdown",
   "metadata": {}
  },
  {
   "cell_type": "code",
   "execution_count": 5,
   "metadata": {},
   "outputs": [
    {
     "output_type": "execute_result",
     "data": {
      "text/plain": [
       "<class 'statsmodels.iolib.summary.Summary'>\n",
       "\"\"\"\n",
       "                           Logit Regression Results                           \n",
       "==============================================================================\n",
       "Dep. Variable:                Outcome   No. Observations:                 2149\n",
       "Model:                          Logit   Df Residuals:                     2143\n",
       "Method:                           MLE   Df Model:                            5\n",
       "Date:                Mon, 26 Apr 2021   Pseudo R-squ.:                 0.04047\n",
       "Time:                        13:29:01   Log-Likelihood:                -1310.3\n",
       "converged:                       True   LL-Null:                       -1365.5\n",
       "Covariance Type:            nonrobust   LLR p-value:                 3.190e-22\n",
       "==============================================================================\n",
       "                 coef    std err          z      P>|z|      [0.025      0.975]\n",
       "------------------------------------------------------------------------------\n",
       "const         -3.9728      0.728     -5.455      0.000      -5.400      -2.546\n",
       "Age           -0.0110      0.005     -2.162      0.031      -0.021      -0.001\n",
       "BMI            0.0770      0.010      7.661      0.000       0.057       0.097\n",
       "Sex            0.1931      0.114      1.693      0.091      -0.030       0.417\n",
       "MF            -0.5823      0.264     -2.201      0.028      -1.101      -0.064\n",
       "LF             1.2869      0.246      5.222      0.000       0.804       1.770\n",
       "==============================================================================\n",
       "\"\"\""
      ],
      "text/html": "<table class=\"simpletable\">\n<caption>Logit Regression Results</caption>\n<tr>\n  <th>Dep. Variable:</th>        <td>Outcome</td>     <th>  No. Observations:  </th>  <td>  2149</td>  \n</tr>\n<tr>\n  <th>Model:</th>                 <td>Logit</td>      <th>  Df Residuals:      </th>  <td>  2143</td>  \n</tr>\n<tr>\n  <th>Method:</th>                 <td>MLE</td>       <th>  Df Model:          </th>  <td>     5</td>  \n</tr>\n<tr>\n  <th>Date:</th>            <td>Mon, 26 Apr 2021</td> <th>  Pseudo R-squ.:     </th>  <td>0.04047</td> \n</tr>\n<tr>\n  <th>Time:</th>                <td>13:29:01</td>     <th>  Log-Likelihood:    </th> <td> -1310.3</td> \n</tr>\n<tr>\n  <th>converged:</th>             <td>True</td>       <th>  LL-Null:           </th> <td> -1365.5</td> \n</tr>\n<tr>\n  <th>Covariance Type:</th>     <td>nonrobust</td>    <th>  LLR p-value:       </th> <td>3.190e-22</td>\n</tr>\n</table>\n<table class=\"simpletable\">\n<tr>\n    <td></td>       <th>coef</th>     <th>std err</th>      <th>z</th>      <th>P>|z|</th>  <th>[0.025</th>    <th>0.975]</th>  \n</tr>\n<tr>\n  <th>const</th> <td>   -3.9728</td> <td>    0.728</td> <td>   -5.455</td> <td> 0.000</td> <td>   -5.400</td> <td>   -2.546</td>\n</tr>\n<tr>\n  <th>Age</th>   <td>   -0.0110</td> <td>    0.005</td> <td>   -2.162</td> <td> 0.031</td> <td>   -0.021</td> <td>   -0.001</td>\n</tr>\n<tr>\n  <th>BMI</th>   <td>    0.0770</td> <td>    0.010</td> <td>    7.661</td> <td> 0.000</td> <td>    0.057</td> <td>    0.097</td>\n</tr>\n<tr>\n  <th>Sex</th>   <td>    0.1931</td> <td>    0.114</td> <td>    1.693</td> <td> 0.091</td> <td>   -0.030</td> <td>    0.417</td>\n</tr>\n<tr>\n  <th>MF</th>    <td>   -0.5823</td> <td>    0.264</td> <td>   -2.201</td> <td> 0.028</td> <td>   -1.101</td> <td>   -0.064</td>\n</tr>\n<tr>\n  <th>LF</th>    <td>    1.2869</td> <td>    0.246</td> <td>    5.222</td> <td> 0.000</td> <td>    0.804</td> <td>    1.770</td>\n</tr>\n</table>"
     },
     "metadata": {},
     "execution_count": 5
    }
   ],
   "source": [
    "smLRclassicalfit.summary()"
   ]
  },
  {
   "cell_type": "code",
   "execution_count": 6,
   "metadata": {},
   "outputs": [
    {
     "output_type": "execute_result",
     "data": {
      "text/plain": [
       "<class 'statsmodels.iolib.summary.Summary'>\n",
       "\"\"\"\n",
       "                           Logit Regression Results                           \n",
       "==============================================================================\n",
       "Dep. Variable:                Outcome   No. Observations:                 2149\n",
       "Model:                          Logit   Df Residuals:                     2142\n",
       "Method:                           MLE   Df Model:                            6\n",
       "Date:                Mon, 26 Apr 2021   Pseudo R-squ.:                 0.09270\n",
       "Time:                        13:29:01   Log-Likelihood:                -1239.0\n",
       "converged:                       True   LL-Null:                       -1365.5\n",
       "Covariance Type:            nonrobust   LLR p-value:                 8.648e-52\n",
       "==============================================================================\n",
       "                 coef    std err          z      P>|z|      [0.025      0.975]\n",
       "------------------------------------------------------------------------------\n",
       "const         -2.6991      0.757     -3.567      0.000      -4.182      -1.216\n",
       "Age           -0.0197      0.005     -3.680      0.000      -0.030      -0.009\n",
       "BMI            0.0514      0.011      4.867      0.000       0.031       0.072\n",
       "Sex            0.0878      0.118      0.747      0.455      -0.143       0.318\n",
       "MF             2.2453      0.364      6.177      0.000       1.533       2.958\n",
       "LF             2.2872      0.268      8.522      0.000       1.761       2.813\n",
       "DLROI         -3.6645      0.320    -11.463      0.000      -4.291      -3.038\n",
       "==============================================================================\n",
       "\"\"\""
      ],
      "text/html": "<table class=\"simpletable\">\n<caption>Logit Regression Results</caption>\n<tr>\n  <th>Dep. Variable:</th>        <td>Outcome</td>     <th>  No. Observations:  </th>  <td>  2149</td>  \n</tr>\n<tr>\n  <th>Model:</th>                 <td>Logit</td>      <th>  Df Residuals:      </th>  <td>  2142</td>  \n</tr>\n<tr>\n  <th>Method:</th>                 <td>MLE</td>       <th>  Df Model:          </th>  <td>     6</td>  \n</tr>\n<tr>\n  <th>Date:</th>            <td>Mon, 26 Apr 2021</td> <th>  Pseudo R-squ.:     </th>  <td>0.09270</td> \n</tr>\n<tr>\n  <th>Time:</th>                <td>13:29:01</td>     <th>  Log-Likelihood:    </th> <td> -1239.0</td> \n</tr>\n<tr>\n  <th>converged:</th>             <td>True</td>       <th>  LL-Null:           </th> <td> -1365.5</td> \n</tr>\n<tr>\n  <th>Covariance Type:</th>     <td>nonrobust</td>    <th>  LLR p-value:       </th> <td>8.648e-52</td>\n</tr>\n</table>\n<table class=\"simpletable\">\n<tr>\n    <td></td>       <th>coef</th>     <th>std err</th>      <th>z</th>      <th>P>|z|</th>  <th>[0.025</th>    <th>0.975]</th>  \n</tr>\n<tr>\n  <th>const</th> <td>   -2.6991</td> <td>    0.757</td> <td>   -3.567</td> <td> 0.000</td> <td>   -4.182</td> <td>   -1.216</td>\n</tr>\n<tr>\n  <th>Age</th>   <td>   -0.0197</td> <td>    0.005</td> <td>   -3.680</td> <td> 0.000</td> <td>   -0.030</td> <td>   -0.009</td>\n</tr>\n<tr>\n  <th>BMI</th>   <td>    0.0514</td> <td>    0.011</td> <td>    4.867</td> <td> 0.000</td> <td>    0.031</td> <td>    0.072</td>\n</tr>\n<tr>\n  <th>Sex</th>   <td>    0.0878</td> <td>    0.118</td> <td>    0.747</td> <td> 0.455</td> <td>   -0.143</td> <td>    0.318</td>\n</tr>\n<tr>\n  <th>MF</th>    <td>    2.2453</td> <td>    0.364</td> <td>    6.177</td> <td> 0.000</td> <td>    1.533</td> <td>    2.958</td>\n</tr>\n<tr>\n  <th>LF</th>    <td>    2.2872</td> <td>    0.268</td> <td>    8.522</td> <td> 0.000</td> <td>    1.761</td> <td>    2.813</td>\n</tr>\n<tr>\n  <th>DLROI</th> <td>   -3.6645</td> <td>    0.320</td> <td>  -11.463</td> <td> 0.000</td> <td>   -4.291</td> <td>   -3.038</td>\n</tr>\n</table>"
     },
     "metadata": {},
     "execution_count": 6
    }
   ],
   "source": [
    "smLRdlguidedfit.summary()"
   ]
  },
  {
   "source": [
    "## Likelihood Ratio $\\chi^2$ test"
   ],
   "cell_type": "markdown",
   "metadata": {}
  },
  {
   "cell_type": "code",
   "execution_count": 7,
   "metadata": {},
   "outputs": [
    {
     "output_type": "execute_result",
     "data": {
      "text/plain": [
       "7.014524980221778e-33"
      ]
     },
     "metadata": {},
     "execution_count": 7
    }
   ],
   "source": [
    "scipy.stats.chi2.sf(2*(smLRdlguidedfit.llf - smLRclassicalfit.llf), 1)"
   ]
  }
 ]
}